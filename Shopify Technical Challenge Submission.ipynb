{
 "cells": [
  {
   "cell_type": "markdown",
   "metadata": {},
   "source": [
    "# Shopify Tehnical Challenge Submission\n",
    "Data Science Winter 2022 Internship  \n",
    "Vanessa Bayubaskoro"
   ]
  },
  {
   "cell_type": "code",
   "execution_count": 62,
   "metadata": {},
   "outputs": [],
   "source": [
    "import pandas as pd\n",
    "import matplotlib.pyplot as plt\n",
    "import statistics as stats"
   ]
  },
  {
   "cell_type": "markdown",
   "metadata": {},
   "source": [
    "## Question 1a\n",
    "\n",
    "Given some sample data, write a program to answer the following.\n",
    "\n",
    "On Shopify, we have exactly 100 sneaker shops, and each of these shops sells only one model of shoe. We want to do some analysis of the average order value (AOV). When we look at orders data over a 30 day window, we naively calculate an AOV of $3145.13. Given that we know these shops are selling sneakers, a relatively affordable item, something seems wrong with our analysis. \n",
    "\n",
    "1a. Think about what could be going wrong with our calculation. Think about a better way to evaluate this data.  \n",
    "  \n",
    "Solution:   \n",
    "\n",
    "There may exist some super expensive sneakers which will affect the value of the AOV. Let's check by looking at the price range of sneakers. By using min and max function, we find that the cheapest shoes are 90 dollars and the most expensive shoes are 25 275 dollars. We see that we have a really big range of sneaker prices. There exist some really expensive shoes. Their values have affected the calcualted AOV because the mean is easily influeced by extreme values. In the histogram below, we see that there are some extreme values that fall on the right tail. The values are skewed to the right. \n",
    "\n",
    "A better way to evaluate this data is to calculate the median. The median will not be as affected by the extreme values. \n",
    "\n",
    "\n",
    "\n",
    "\n",
    "\n",
    "\n"
   ]
  },
  {
   "cell_type": "code",
   "execution_count": 57,
   "metadata": {},
   "outputs": [],
   "source": [
    "data = pd.read_csv('2019 Winter Data Science Intern Challenge Data Set - Sheet1.csv')"
   ]
  },
  {
   "cell_type": "code",
   "execution_count": 58,
   "metadata": {},
   "outputs": [
    {
     "data": {
      "text/plain": [
       "(array([4.972e+03, 1.000e+01, 1.000e+00, 0.000e+00, 0.000e+00, 0.000e+00,\n",
       "        0.000e+00, 0.000e+00, 0.000e+00, 1.700e+01]),\n",
       " array([9.00000e+01, 7.04810e+04, 1.40872e+05, 2.11263e+05, 2.81654e+05,\n",
       "        3.52045e+05, 4.22436e+05, 4.92827e+05, 5.63218e+05, 6.33609e+05,\n",
       "        7.04000e+05]),\n",
       " <BarContainer object of 10 artists>)"
      ]
     },
     "execution_count": 58,
     "metadata": {},
     "output_type": "execute_result"
    },
    {
     "data": {
      "image/png": "[encoded data removed]",
      "text/plain": [
       "<Figure size 432x288 with 1 Axes>"
      ]
     },
     "metadata": {
      "needs_background": "light"
     },
     "output_type": "display_data"
    }
   ],
   "source": [
    "#histogram of the order amount\n",
    "plt.hist(order_amount)"
   ]
  },
  {
   "cell_type": "code",
   "execution_count": 55,
   "metadata": {},
   "outputs": [
    {
     "data": {
      "text/plain": [
       "90.0"
      ]
     },
     "execution_count": 55,
     "metadata": {},
     "output_type": "execute_result"
    }
   ],
   "source": [
    "# cheapest sneaker price \n",
    "min(data[\"order_amount\"]/data[\"total_items\"])"
   ]
  },
  {
   "cell_type": "code",
   "execution_count": 56,
   "metadata": {},
   "outputs": [
    {
     "data": {
      "text/plain": [
       "25725.0"
      ]
     },
     "execution_count": 56,
     "metadata": {},
     "output_type": "execute_result"
    }
   ],
   "source": [
    "# most expensive sneaker price\n",
    "max(data[\"order_amount\"]/data[\"total_items\"])"
   ]
  },
  {
   "cell_type": "markdown",
   "metadata": {},
   "source": [
    "## Question 1b\n",
    "What metric would you report for this dataset?\n",
    "\n",
    "Solution: I would repoort the median of the order amount because the median value is more resistant to the extreme values in skewed data. In a right tailed histogram, the mean will be higher than the median. Hence why the calcaulted AOV was really high. "
   ]
  },
  {
   "cell_type": "markdown",
   "metadata": {},
   "source": [
    "## Question 1c\n",
    "What is its value?\n",
    "\n",
    "Solution: The value of the median of the order amount is 284 dollars which represents better how much a customer will spend on sneakers in one order. "
   ]
  },
  {
   "cell_type": "code",
   "execution_count": 66,
   "metadata": {},
   "outputs": [
    {
     "data": {
      "text/plain": [
       "284.0"
      ]
     },
     "execution_count": 66,
     "metadata": {},
     "output_type": "execute_result"
    }
   ],
   "source": [
    "stats.median(data[\"order_amount\"])"
   ]
  },
  {
   "cell_type": "markdown",
   "metadata": {},
   "source": [
    "## Question 2a\n",
    "Final numerical answer: 54 orders were shipped by Speedy Express in total.      \n",
    "  \n",
    "SQL Code:     \n",
    "select count(*) from orders where shipperID in (select shipperID from Shippers where ShipperName = 'Speedy Express');\n",
    "\n"
   ]
  },
  {
   "cell_type": "markdown",
   "metadata": {},
   "source": [
    "## Question 2b\n",
    "Final answer: Peacock is the last name of the employee with the most orders.\n",
    "  \n",
    "SQL Code:  \n",
    "SELECT e.LastName, o.EmployeeID, COUNT(*) as MaxOrderEmployee FROM Orders o, Employees e WHERE o.employeeID = e.employeeID GROUP BY o.EmployeeID ORDER BY MaxOrderEmployee desc LIMIT 1;\n",
    "\n"
   ]
  },
  {
   "cell_type": "markdown",
   "metadata": {},
   "source": [
    "## Question 2c\n",
    "\n",
    "Final answer: The Steeleye Stout was the most ordered by customers in Germany.  \n",
    "\n",
    "SQL Code:\n",
    "SELECT products.productID, MAX(orderdetails.quantity), products.ProductName from (((customers\n",
    "join orders on orders.customerID = customers.customerID)\n",
    "join orderdetails on orderdetails.orderID = orders.orderID)\n",
    "join products on orderdetails.productID = products.productID)\n",
    "where Country = 'Germany';   \n"
   ]
  },
  {
   "cell_type": "code",
   "execution_count": null,
   "metadata": {},
   "outputs": [],
   "source": []
  }
 ],
 "metadata": {
  "kernelspec": {
   "display_name": "Python 3",
   "language": "python",
   "name": "python3"
  },
  "language_info": {
   "codemirror_mode": {
    "name": "ipython",
    "version": 3
   },
   "file_extension": ".py",
   "mimetype": "text/x-python",
   "name": "python",
   "nbconvert_exporter": "python",
   "pygments_lexer": "ipython3",
   "version": "3.8.5"
  }
 },
 "nbformat": 4,
 "nbformat_minor": 4
}
